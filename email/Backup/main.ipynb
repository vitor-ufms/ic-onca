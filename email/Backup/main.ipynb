{
 "cells": [
  {
   "cell_type": "markdown",
   "metadata": {},
   "source": [
    "###  INICIALIZAÇÃO"
   ]
  },
  {
   "cell_type": "markdown",
   "metadata": {},
   "source": [
    "#### Impotação de bibliotecas"
   ]
  },
  {
   "cell_type": "code",
   "execution_count": 10,
   "metadata": {},
   "outputs": [],
   "source": [
    "import os"
   ]
  },
  {
   "cell_type": "markdown",
   "metadata": {},
   "source": [
    "#### Acessando o banco de dados"
   ]
  },
  {
   "cell_type": "code",
   "execution_count": 11,
   "metadata": {},
   "outputs": [],
   "source": [
    "main_dir = r'C:\\Users\\Vitor\\Desktop\\IC\\Cod\\maquinavirtual\\maqvirtual'\n",
    "os.chdir(main_dir)\n",
    "#pwd, ls\n"
   ]
  },
  {
   "cell_type": "code",
   "execution_count": null,
   "metadata": {},
   "outputs": [],
   "source": []
  },
  {
   "cell_type": "markdown",
   "metadata": {},
   "source": [
    "####  E-mails"
   ]
  },
  {
   "cell_type": "markdown",
   "metadata": {},
   "source": [
    "senha : pecuaria007\n",
    "senha app: xaeliekypnnpjiqv"
   ]
  },
  {
   "cell_type": "code",
   "execution_count": 13,
   "metadata": {},
   "outputs": [
    {
     "name": "stdout",
     "output_type": "stream",
     "text": [
      "assunto:  foto assunto 24 de jul de 2022 13:04:52\n",
      "mensagem:  teste\n",
      "\n",
      "fileName:  20220724_130452.jpg\n",
      "id =  b'1'\n",
      "------------------------outro email-----------------------------------------------\n",
      "assunto:  Test\n",
      "mensagem:  Tets\n",
      "\n",
      "id =  b'2'\n",
      "------------------------outro email-----------------------------------------------\n",
      "assunto:  Test galeria\n",
      "mensagem:  Texto\n",
      "\n",
      "fileName:  20220724_181051.jpg\n",
      "fileName:  20220724_181047.jpg\n",
      "id =  b'3'\n",
      "------------------------outro email-----------------------------------------------\n"
     ]
    }
   ],
   "source": [
    "########################## Usar esse para baixar imagem ##########################\n",
    "import email\n",
    "import imaplib\n",
    "\n",
    "EMAIL = 'vitorhgsd@gmail.com'\n",
    "PASSWORD = 'xaeliekypnnpjiqv'\n",
    "SERVER = 'imap.gmail.com'\n",
    "\n",
    "\n",
    "# abriremos uma conexão com SSL com o servidor de emails\n",
    "# logando e navegando para a inbox\n",
    "mail = imaplib.IMAP4_SSL(SERVER)\n",
    "mail.login(EMAIL, PASSWORD)\n",
    "# selecionamos a caixa de entrada neste caso\n",
    "# mas qualquer outra caixa pode ser selecionada\n",
    "mail.select('inbox')\n",
    "\n",
    "# faremos uma busca com o critério ALL para pegar\n",
    "# todos os emails da inbox, esta busca retorna\n",
    "# o status da operação e uma lista com\n",
    "# os ids dos emails\n",
    "\n",
    "status, data = mail.search(None, 'ALL')\n",
    "#status, data = mail.search(None, ('UNSEEN'))\n",
    "\n",
    "# data é uma lista com ids em blocos de bytes separados\n",
    "# por espaço neste formato: [b'1 2 3', b'4 5 6']\n",
    "# então para separar os ids primeiramente criaremos\n",
    "# uma lista vazia\n",
    "mail_ids = []\n",
    "# e em seguida iteramos pelo data separando os blocos\n",
    "# de bytes e concatenando a lista resultante com nossa\n",
    "# lista inicial\n",
    "for block in data:\n",
    "    # a função split chamada sem nenhum parâmetro\n",
    "    # transforma texto ou bytes em listas usando como\n",
    "    # ponto de divisão o espaço em branco:\n",
    "    # b'1 2 3'.split() => [b'1', b'2', b'3']\n",
    "    mail_ids += block.split()\n",
    "\n",
    "# agora para cada id baixaremos o email\n",
    "# e extrairemos seu conteúdo\n",
    "for i in mail_ids:\n",
    "    # a função fetch baixa o email passando id e o formato\n",
    "    # em que você deseja que a mensagem venha\n",
    "    status, data = mail.fetch(i, '(RFC822)')\n",
    "   # data1 = data.copy()\n",
    "    #data[0][1]= data[0][1].decode('utf-8')\n",
    "\n",
    "    # data no formato '(RFC822)' vem em uma lista com a\n",
    "    # tupla onde o conteúdo está e o byte de fechamento b')'\n",
    "    # por isso vamos iterar pelo data extraindo a tupla\n",
    "    # o primeiro elemento da tupla é o cabeçalho\n",
    "    # de formatação e o segundo elemento possuí o\n",
    "    # conteúdo que queremos extrair\n",
    "    message1 = email.message_from_string(data[0][1].decode('utf-8'))\n",
    "\n",
    "    for a in message1.walk():\n",
    "        #print('AA:\\n',a)\n",
    "        #print('===========fim do a ----------------')\n",
    "        if a.get_content_type() == 'image/jpeg':\n",
    "            fileName = a.get_filename()\n",
    "            foto = a.get_payload(decode=True)\n",
    "            print('fileName2: ',fileName)\n",
    "            with open(f'Imagem\\{fileName}','wb')as arquivo:\n",
    "                arquivo.write(foto)\n",
    "\n",
    "        if a.get_content_type() == 'application/octet-stream':\n",
    "            fileName = a.get_filename()\n",
    "            foto = a.get_payload(decode=True)\n",
    "            print('fileName1: ',fileName)\n",
    "            with open(f'Imagem\\{fileName}','wb')as arquivo:\n",
    "                arquivo.write(foto)\n",
    "\n",
    "        if a.get_content_type() == 'text/plain':\n",
    "            msg = a.get_payload()\n",
    "            print('mensagem: ',msg)\n",
    "\n",
    "        if a.get('Subject') is not None:\n",
    "            ass = a.get('Subject') \n",
    "            print('assunto: ',ass)\n",
    "\n",
    "\n",
    "    print('id = ',i)\n",
    "    print('------------------------outro email-----------------------------------------------')\n",
    "\n"
   ]
  },
  {
   "cell_type": "code",
   "execution_count": null,
   "metadata": {},
   "outputs": [],
   "source": []
  },
  {
   "cell_type": "markdown",
   "metadata": {},
   "source": [
    "### Acessando as informações da imagem\n"
   ]
  },
  {
   "cell_type": "code",
   "execution_count": 18,
   "metadata": {},
   "outputs": [
    {
     "name": "stdout",
     "output_type": "stream",
     "text": [
      "True\n"
     ]
    }
   ],
   "source": [
    "### pip install exif\n",
    "from exif import Image\n",
    "\n",
    "name_img = '20220724_181047.jpg'\n",
    "end_img =  r'C:\\Users\\Vitor\\Desktop\\IC\\Cod\\maquinavirtual\\maqvirtual\\Imagem\\\\'+ name_img\n",
    "with open(end_img, 'rb') as arq_img: ## wb escrita\n",
    "    img = Image(arq_img)\n",
    "    print(img.has_exif)"
   ]
  },
  {
   "cell_type": "code",
   "execution_count": 20,
   "metadata": {},
   "outputs": [
    {
     "data": {
      "image/png": "[encoded data removed]",
      "text/plain": [
       "<PIL.Image.Image image mode=RGB size=200x200>"
      ]
     },
     "execution_count": 20,
     "metadata": {},
     "output_type": "execute_result"
    }
   ],
   "source": [
    "from PIL import Image\n",
    "\n",
    "imag = Image.open(end_img)\n",
    "imag.resize((200,200))"
   ]
  },
  {
   "cell_type": "code",
   "execution_count": 21,
   "metadata": {},
   "outputs": [
    {
     "data": {
      "text/plain": [
       "['image_width',\n",
       " 'model',\n",
       " 'image_height',\n",
       " 'software',\n",
       " 'make',\n",
       " '_exif_ifd_pointer',\n",
       " 'orientation',\n",
       " 'datetime',\n",
       " '_gps_ifd_pointer',\n",
       " 'datetime_original',\n",
       " 'photographic_sensitivity',\n",
       " 'datetime_digitized',\n",
       " 'focal_length',\n",
       " 'metering_mode',\n",
       " 'exposure_program',\n",
       " 'exposure_time',\n",
       " 'flash',\n",
       " 'light_source',\n",
       " 'f_number',\n",
       " 'gps_latitude',\n",
       " 'gps_altitude',\n",
       " 'gps_latitude_ref',\n",
       " 'gps_speed',\n",
       " 'gps_altitude_ref',\n",
       " 'gps_speed_ref',\n",
       " 'gps_longitude_ref',\n",
       " 'gps_longitude']"
      ]
     },
     "execution_count": 21,
     "metadata": {},
     "output_type": "execute_result"
    }
   ],
   "source": [
    "img.list_all()"
   ]
  },
  {
   "cell_type": "code",
   "execution_count": 22,
   "metadata": {},
   "outputs": [
    {
     "name": "stdout",
     "output_type": "stream",
     "text": [
      "(20.0, 41.0, 59.851)\n",
      "S\n",
      "(56.0, 45.0, 24.667)\n",
      "W\n"
     ]
    }
   ],
   "source": [
    "print(img.gps_latitude)\n",
    "print(img.gps_latitude_ref)\n",
    "print(img.gps_longitude)\n",
    "print(img.gps_longitude_ref)"
   ]
  },
  {
   "cell_type": "code",
   "execution_count": 23,
   "metadata": {},
   "outputs": [
    {
     "name": "stdout",
     "output_type": "stream",
     "text": [
      "-20.69995861111111 -56.75685194444444\n"
     ]
    }
   ],
   "source": [
    "# graus decimais\n",
    "def dec_coord(coords, ref): \n",
    "    decimal_degrees = coords[0] + coords[1] / 60 + coords[2] / 3600 \n",
    "    if ref == 'S' or ref == 'W': \n",
    "        decimal_degrees = -decimal_degrees \n",
    "    return decimal_degrees\n",
    "\n",
    "dec_lat = dec_coord(img.gps_latitude,img.gps_latitude_ref)\n",
    "dec_lon = dec_coord(img.gps_longitude, img.gps_longitude_ref)\n",
    "\n",
    "print(dec_lat,dec_lon)"
   ]
  },
  {
   "cell_type": "markdown",
   "metadata": {},
   "source": [
    "### Acessando a planilha do excel"
   ]
  },
  {
   "cell_type": "code",
   "execution_count": 77,
   "metadata": {},
   "outputs": [],
   "source": [
    "# pip install openpyxl\n",
    "# pip install padas\n",
    "\n",
    "import pandas as pd\n",
    "\n",
    "d = {'fileName': [1,2,3], 'Coordenada':[22,33,55], 'Data':[666,888,999] }\n",
    "\n"
   ]
  },
  {
   "cell_type": "code",
   "execution_count": 86,
   "metadata": {},
   "outputs": [
    {
     "data": {
      "text/plain": [
       "{'Name': [1, 2, 3], 'Coordenada': [22, 33, 55], 'Data': [666, 888, 999]}"
      ]
     },
     "execution_count": 86,
     "metadata": {},
     "output_type": "execute_result"
    }
   ],
   "source": [
    "d"
   ]
  },
  {
   "cell_type": "code",
   "execution_count": 87,
   "metadata": {},
   "outputs": [],
   "source": [
    "d['Name'].append(4)\n",
    "d[\"Coordenada\"].append(66)\n",
    "d[\"Data\"].append(444)"
   ]
  },
  {
   "cell_type": "code",
   "execution_count": 88,
   "metadata": {},
   "outputs": [
    {
     "data": {
      "text/plain": [
       "{'Name': [1, 2, 3, 4],\n",
       " 'Coordenada': [22, 33, 55, 66],\n",
       " 'Data': [666, 888, 999, 444]}"
      ]
     },
     "execution_count": 88,
     "metadata": {},
     "output_type": "execute_result"
    }
   ],
   "source": [
    "d"
   ]
  },
  {
   "cell_type": "code",
   "execution_count": 89,
   "metadata": {},
   "outputs": [],
   "source": [
    "#Gravar os dados em excel\n",
    "dados = pd.DataFrame(data=d)\n",
    "dados.to_excel(f'{main_dir}\\Dados\\dados.xlsx', index=False)"
   ]
  }
 ],
 "metadata": {
  "kernelspec": {
   "display_name": "Python 3.10.5 64-bit",
   "language": "python",
   "name": "python3"
  },
  "language_info": {
   "codemirror_mode": {
    "name": "ipython",
    "version": 3
   },
   "file_extension": ".py",
   "mimetype": "text/x-python",
   "name": "python",
   "nbconvert_exporter": "python",
   "pygments_lexer": "ipython3",
   "version": "3.10.5"
  },
  "orig_nbformat": 4,
  "vscode": {
   "interpreter": {
    "hash": "bd5041406ba2e9808ff79c72fc0a5f7960433d6ec9b694943f7b2c05af18bbc6"
   }
  }
 },
 "nbformat": 4,
 "nbformat_minor": 2
}
