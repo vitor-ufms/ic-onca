{
 "cells": [
  {
   "cell_type": "code",
   "execution_count": 25,
   "metadata": {},
   "outputs": [
    {
     "name": "stdout",
     "output_type": "stream",
     "text": [
      "True\n"
     ]
    }
   ],
   "source": [
    "### pip install exif\n",
    "from exif import Image\n",
    "\n",
    "img_path =  r'C:\\Users\\Vitor\\Desktop\\IC\\Cod\\maquinavirtual\\maqvirtual\\imagem\\20220724_130452.jpg'\n",
    "with open(img_path, 'rb') as src: ## wb escrita\n",
    "    img = Image(src)\n",
    "    print(img.has_exif)\n",
    "    "
   ]
  },
  {
   "cell_type": "code",
   "execution_count": 26,
   "metadata": {},
   "outputs": [
    {
     "data": {
      "text/plain": [
       "['image_width',\n",
       " 'model',\n",
       " 'image_height',\n",
       " 'software',\n",
       " 'make',\n",
       " '_exif_ifd_pointer',\n",
       " 'orientation',\n",
       " 'datetime',\n",
       " '_gps_ifd_pointer',\n",
       " 'datetime_original',\n",
       " 'photographic_sensitivity',\n",
       " 'datetime_digitized',\n",
       " 'focal_length',\n",
       " 'metering_mode',\n",
       " 'exposure_program',\n",
       " 'exposure_time',\n",
       " 'flash',\n",
       " 'light_source',\n",
       " 'f_number',\n",
       " 'gps_latitude',\n",
       " 'gps_altitude',\n",
       " 'gps_latitude_ref',\n",
       " 'gps_speed',\n",
       " 'gps_altitude_ref',\n",
       " 'gps_speed_ref',\n",
       " 'gps_longitude_ref',\n",
       " 'gps_longitude']"
      ]
     },
     "execution_count": 26,
     "metadata": {},
     "output_type": "execute_result"
    }
   ],
   "source": [
    "img.list_all()"
   ]
  },
  {
   "cell_type": "code",
   "execution_count": 34,
   "metadata": {},
   "outputs": [
    {
     "data": {
      "text/plain": [
       "0.0"
      ]
     },
     "execution_count": 34,
     "metadata": {},
     "output_type": "execute_result"
    }
   ],
   "source": [
    "img.gps_speed"
   ]
  },
  {
   "cell_type": "code",
   "execution_count": 28,
   "metadata": {},
   "outputs": [
    {
     "name": "stdout",
     "output_type": "stream",
     "text": [
      "(20.0, 42.0, 0.337)\n",
      "S\n",
      "(56.0, 45.0, 24.534)\n",
      "W\n"
     ]
    }
   ],
   "source": [
    "print(img.gps_latitude)\n",
    "print(img.gps_latitude_ref)\n",
    "print(img.gps_longitude)\n",
    "print(img.gps_longitude_ref)"
   ]
  },
  {
   "cell_type": "code",
   "execution_count": 29,
   "metadata": {},
   "outputs": [
    {
     "name": "stdout",
     "output_type": "stream",
     "text": [
      "-20.70009361111111 -56.756815\n"
     ]
    }
   ],
   "source": [
    "# graus decimais\n",
    "def dec_coord(coords, ref): \n",
    "    decimal_degrees = coords[0] + coords[1] / 60 + coords[2] / 3600 \n",
    "    if ref == 'S' or ref == 'W': \n",
    "        decimal_degrees = -decimal_degrees \n",
    "    return decimal_degrees\n",
    "\n",
    "dec_lat = dec_coord(img.gps_latitude,img.gps_latitude_ref)\n",
    "dec_lon = dec_coord(img.gps_longitude, img.gps_longitude_ref)\n",
    "\n",
    "print(dec_lat,dec_lon)"
   ]
  }
 ],
 "metadata": {
  "kernelspec": {
   "display_name": "Python 3.10.5 64-bit",
   "language": "python",
   "name": "python3"
  },
  "language_info": {
   "codemirror_mode": {
    "name": "ipython",
    "version": 3
   },
   "file_extension": ".py",
   "mimetype": "text/x-python",
   "name": "python",
   "nbconvert_exporter": "python",
   "pygments_lexer": "ipython3",
   "version": "3.10.5"
  },
  "orig_nbformat": 4,
  "vscode": {
   "interpreter": {
    "hash": "bd5041406ba2e9808ff79c72fc0a5f7960433d6ec9b694943f7b2c05af18bbc6"
   }
  }
 },
 "nbformat": 4,
 "nbformat_minor": 2
}
